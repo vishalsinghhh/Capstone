{
  "cells": [
    {
      "cell_type": "code",
      "source": [
        "from google.colab import drive\n",
        "drive.mount('/content/drive')"
      ],
      "metadata": {
        "colab": {
          "base_uri": "https://localhost:8080/"
        },
        "id": "ZoqjByHu2iJC",
        "outputId": "58cf87b5-391e-433a-ce36-8a96ecc01390"
      },
      "execution_count": null,
      "outputs": [
        {
          "output_type": "stream",
          "name": "stdout",
          "text": [
            "Mounted at /content/drive\n"
          ]
        }
      ]
    },
    {
      "cell_type": "code",
      "execution_count": null,
      "metadata": {
        "id": "381EuqNFvMl9"
      },
      "outputs": [],
      "source": [
        "import os\n",
        "import numpy as np\n",
        "import tensorflow as tf\n",
        "from sklearn.model_selection import train_test_split\n",
        "from sklearn.metrics import confusion_matrix, classification_report\n",
        "import matplotlib.pyplot as plt\n",
        "from tensorflow.keras.models import Sequential\n",
        "from tensorflow.keras.layers import GlobalAveragePooling2D, Dense, Dropout\n",
        "from tensorflow.keras.applications import MobileNetV2\n",
        "from tensorflow.keras.optimizers import Adam\n",
        "from tensorflow.keras.callbacks import EarlyStopping, ReduceLROnPlateau"
      ]
    },
    {
      "cell_type": "code",
      "execution_count": null,
      "metadata": {
        "id": "6cKMK2fHK3aW"
      },
      "outputs": [],
      "source": [
        "np.random.seed(42)\n",
        "tf.random.set_seed(42)"
      ]
    },
    {
      "cell_type": "code",
      "execution_count": null,
      "metadata": {
        "id": "0904jqVyvQn0"
      },
      "outputs": [],
      "source": [
        "dataset_path = \"/content/drive/MyDrive/Capstone/classified_images\"\n",
        "input_shape = (90, 120, 3)\n",
        "classes = ['Fair_Light', 'Medium_Tan', 'Dark_Deep']\n",
        "EPOCHS = 50  # Increase the number of epochs\n",
        "BS = 32"
      ]
    },
    {
      "cell_type": "code",
      "execution_count": null,
      "metadata": {
        "id": "3qPicjD_0oj8"
      },
      "outputs": [],
      "source": [
        "data = []\n",
        "labels = []"
      ]
    },
    {
      "cell_type": "code",
      "execution_count": null,
      "metadata": {
        "id": "xZ-kabod0pus",
        "colab": {
          "base_uri": "https://localhost:8080/"
        },
        "outputId": "c1e5a558-8ad7-4128-f12a-57a4107a2b19"
      },
      "outputs": [
        {
          "output_type": "stream",
          "name": "stdout",
          "text": [
            "/content/drive/MyDrive/Capstone/classified_images/Fair_Light\n",
            "000244_face.jpg\n",
            "000246_face.jpg\n",
            "000247_face.jpg\n",
            "000248_face.jpg\n",
            "000249_face.jpg\n",
            "000251_face.jpg\n",
            "000252_face.jpg\n",
            "000254_face.jpg\n",
            "000255_face.jpg\n",
            "000257_face.jpg\n",
            "000258_face.jpg\n",
            "000259_face.jpg\n",
            "000260_face.jpg\n",
            "000264_face.jpg\n",
            "000265_face.jpg\n",
            "000267_face.jpg\n",
            "/content/drive/MyDrive/Capstone/classified_images/Medium_Tan\n",
            "000241_face.jpg\n",
            "000242_face.jpg\n",
            "000243_face.jpg\n",
            "000245_face.jpg\n",
            "000261_face.jpg\n",
            "000263_face.jpg\n",
            "000268_face.jpg\n",
            "000272_face.jpg\n",
            "/content/drive/MyDrive/Capstone/classified_images/Dark_Deep\n",
            "000250_face.jpg\n",
            "000256_face.jpg\n",
            "000266_face.jpg\n"
          ]
        }
      ],
      "source": [
        "for idx, class_name in enumerate(classes):\n",
        "    class_path = os.path.join(dataset_path, class_name)\n",
        "    print(class_path)\n",
        "    for filename in os.listdir(class_path):\n",
        "\n",
        "        print(filename)\n",
        "        image_path = os.path.join(class_path, filename)\n",
        "        image = tf.keras.preprocessing.image.load_img(image_path, target_size=input_shape[:2])\n",
        "        image = tf.keras.preprocessing.image.img_to_array(image)\n",
        "        image = tf.keras.applications.mobilenet_v2.preprocess_input(image)\n",
        "        data.append(image)\n",
        "        labels.append(idx)"
      ]
    },
    {
      "cell_type": "code",
      "execution_count": null,
      "metadata": {
        "id": "EshqDB9a0rrb"
      },
      "outputs": [],
      "source": [
        "data = np.array(data, dtype=\"float32\")\n",
        "labels = np.array(labels)"
      ]
    },
    {
      "cell_type": "code",
      "execution_count": null,
      "metadata": {
        "id": "VPp3EkEdQ60Z"
      },
      "outputs": [],
      "source": [
        "trainX, testX, trainY, testY = train_test_split(data, labels, test_size=0.2, stratify=labels, random_state=42)"
      ]
    },
    {
      "cell_type": "code",
      "execution_count": null,
      "metadata": {
        "id": "uyeyRm3T0215"
      },
      "outputs": [],
      "source": [
        "datagen = tf.keras.preprocessing.image.ImageDataGenerator(\n",
        "    rotation_range=20,\n",
        "    width_shift_range=0.1,\n",
        "    height_shift_range=0.1,\n",
        "    shear_range=0.2,\n",
        "    zoom_range=0.2,\n",
        "    horizontal_flip=True,\n",
        "    fill_mode='nearest')"
      ]
    },
    {
      "cell_type": "code",
      "execution_count": null,
      "metadata": {
        "id": "OQqLXQ7qRBKs"
      },
      "outputs": [],
      "source": [
        "train_datagen = datagen.flow(trainX, trainY, batch_size=BS, shuffle=True)"
      ]
    },
    {
      "cell_type": "code",
      "execution_count": null,
      "metadata": {
        "colab": {
          "base_uri": "https://localhost:8080/"
        },
        "id": "MmqSYh8_1N7s",
        "outputId": "b610ee8c-557c-4799-c60e-7448bfe67da8"
      },
      "outputs": [
        {
          "output_type": "stream",
          "name": "stderr",
          "text": [
            "WARNING:tensorflow:`input_shape` is undefined or non-square, or `rows` is not in [96, 128, 160, 192, 224]. Weights for input shape (224, 224) will be loaded as the default.\n"
          ]
        },
        {
          "output_type": "stream",
          "name": "stdout",
          "text": [
            "Downloading data from https://storage.googleapis.com/tensorflow/keras-applications/mobilenet_v2/mobilenet_v2_weights_tf_dim_ordering_tf_kernels_1.0_224_no_top.h5\n",
            "9406464/9406464 [==============================] - 0s 0us/step\n"
          ]
        }
      ],
      "source": [
        "base_model = MobileNetV2(input_shape=input_shape, include_top=False, weights='imagenet')\n",
        "base_model.trainable = False"
      ]
    },
    {
      "cell_type": "code",
      "execution_count": null,
      "metadata": {
        "colab": {
          "base_uri": "https://localhost:8080/"
        },
        "id": "wYh7DDzYyqA2",
        "outputId": "1386475a-5aaf-4aa9-b055-eccc9cbc578a"
      },
      "outputs": [
        {
          "output_type": "stream",
          "name": "stderr",
          "text": [
            "WARNING:absl:`lr` is deprecated in Keras optimizer, please use `learning_rate` or use the legacy optimizer, e.g.,tf.keras.optimizers.legacy.Adam.\n"
          ]
        }
      ],
      "source": [
        "model = Sequential([  # Define a sequential model architecture\n",
        "    base_model,  # Pre-trained base model (e.g., a convolutional neural network)\n",
        "    GlobalAveragePooling2D(),  # Global average pooling layer to reduce spatial dimensions\n",
        "    Dense(256, activation='relu'),  # Fully connected layer with 256 units and ReLU activation\n",
        "    Dropout(0.4),  # Dropout layer with a dropout rate of 0.4 to reduce overfitting\n",
        "    Dense(len(classes), activation='softmax')  # Output layer with softmax activation for classification\n",
        "])\n",
        "\n",
        "model.compile(  # Compile the model with specified optimizer, loss function, and evaluation metrics\n",
        "    optimizer=Adam(lr=1e-4),  # Adam optimizer with a learning rate of 1e-4\n",
        "    loss='sparse_categorical_crossentropy',  # Sparse categorical cross-entropy loss function for multi-class classification\n",
        "    metrics=['accuracy']  # Metric to monitor model performance during training (accuracy in this case)\n",
        ")\n"
      ]
    },
    {
      "cell_type": "code",
      "execution_count": null,
      "metadata": {
        "id": "zz1NP9lCt5It"
      },
      "outputs": [],
      "source": [
        "lr_scheduler = ReduceLROnPlateau(  # Learning rate scheduler callback\n",
        "    factor=0.5,  # Factor by which the learning rate will be reduced. New_lr = lr * factor\n",
        "    patience=3,  # Number of epochs with no improvement after which learning rate will be reduced\n",
        "    min_lr=1e-6  # Lower bound on the learning rate\n",
        ")\n",
        "\n",
        "early_stopping = EarlyStopping(  # Early stopping callback\n",
        "    monitor='val_loss',  # Metric to monitor for early stopping (validation loss in this case)\n",
        "    patience=5,  # Number of epochs with no improvement after which training will be stopped\n",
        "    restore_best_weights=True  # Whether to restore model weights from the epoch with the best monitored quantity\n",
        ")\n"
      ]
    },
    {
      "cell_type": "code",
      "execution_count": null,
      "metadata": {
        "colab": {
          "base_uri": "https://localhost:8080/"
        },
        "id": "qtxpm97pRNrD",
        "outputId": "23499d01-7cd5-415b-91d2-1a2b566f92b3"
      },
      "outputs": [
        {
          "output_type": "stream",
          "name": "stdout",
          "text": [
            "Epoch 1/50\n",
            "113/113 [==============================] - 27s 141ms/step - loss: 0.7637 - accuracy: 0.6901 - val_loss: 0.5250 - val_accuracy: 0.7241 - lr: 0.0010\n",
            "Epoch 2/50\n",
            "113/113 [==============================] - 13s 118ms/step - loss: 0.5345 - accuracy: 0.7545 - val_loss: 0.3467 - val_accuracy: 0.8664 - lr: 0.0010\n",
            "Epoch 3/50\n",
            "113/113 [==============================] - 13s 116ms/step - loss: 0.5253 - accuracy: 0.7706 - val_loss: 0.3847 - val_accuracy: 0.8797 - lr: 0.0010\n",
            "Epoch 4/50\n",
            "113/113 [==============================] - 14s 124ms/step - loss: 0.5185 - accuracy: 0.7826 - val_loss: 0.3837 - val_accuracy: 0.8113 - lr: 0.0010\n",
            "Epoch 5/50\n",
            "113/113 [==============================] - 13s 112ms/step - loss: 0.4926 - accuracy: 0.7818 - val_loss: 0.3255 - val_accuracy: 0.8698 - lr: 0.0010\n",
            "Epoch 6/50\n",
            "113/113 [==============================] - 13s 116ms/step - loss: 0.4950 - accuracy: 0.7846 - val_loss: 0.2984 - val_accuracy: 0.8863 - lr: 0.0010\n",
            "Epoch 7/50\n",
            "113/113 [==============================] - 13s 111ms/step - loss: 0.4697 - accuracy: 0.7907 - val_loss: 0.3174 - val_accuracy: 0.8653 - lr: 0.0010\n",
            "Epoch 8/50\n",
            "113/113 [==============================] - 14s 125ms/step - loss: 0.4748 - accuracy: 0.7921 - val_loss: 0.2849 - val_accuracy: 0.9183 - lr: 0.0010\n",
            "Epoch 9/50\n",
            "113/113 [==============================] - 13s 114ms/step - loss: 0.4681 - accuracy: 0.7843 - val_loss: 0.3091 - val_accuracy: 0.8786 - lr: 0.0010\n",
            "Epoch 10/50\n",
            "113/113 [==============================] - 13s 115ms/step - loss: 0.4693 - accuracy: 0.7899 - val_loss: 0.2779 - val_accuracy: 0.9117 - lr: 0.0010\n",
            "Epoch 11/50\n",
            "113/113 [==============================] - 12s 106ms/step - loss: 0.4656 - accuracy: 0.7946 - val_loss: 0.2810 - val_accuracy: 0.8996 - lr: 0.0010\n",
            "Epoch 12/50\n",
            "113/113 [==============================] - 13s 115ms/step - loss: 0.4539 - accuracy: 0.8004 - val_loss: 0.2777 - val_accuracy: 0.8797 - lr: 0.0010\n",
            "Epoch 13/50\n",
            "113/113 [==============================] - 13s 114ms/step - loss: 0.4677 - accuracy: 0.7957 - val_loss: 0.3125 - val_accuracy: 0.8896 - lr: 0.0010\n",
            "Epoch 14/50\n",
            "113/113 [==============================] - 13s 115ms/step - loss: 0.4634 - accuracy: 0.7926 - val_loss: 0.2725 - val_accuracy: 0.9161 - lr: 0.0010\n",
            "Epoch 15/50\n",
            "113/113 [==============================] - 12s 110ms/step - loss: 0.4436 - accuracy: 0.8080 - val_loss: 0.2745 - val_accuracy: 0.8996 - lr: 0.0010\n",
            "Epoch 16/50\n",
            "113/113 [==============================] - 13s 119ms/step - loss: 0.4592 - accuracy: 0.8013 - val_loss: 0.2844 - val_accuracy: 0.8830 - lr: 0.0010\n",
            "Epoch 17/50\n",
            "113/113 [==============================] - 13s 117ms/step - loss: 0.4550 - accuracy: 0.8024 - val_loss: 0.2783 - val_accuracy: 0.8885 - lr: 0.0010\n",
            "Epoch 18/50\n",
            "113/113 [==============================] - 13s 116ms/step - loss: 0.4340 - accuracy: 0.8052 - val_loss: 0.2636 - val_accuracy: 0.9183 - lr: 5.0000e-04\n",
            "Epoch 19/50\n",
            "113/113 [==============================] - 13s 118ms/step - loss: 0.4334 - accuracy: 0.8108 - val_loss: 0.2721 - val_accuracy: 0.9106 - lr: 5.0000e-04\n",
            "Epoch 20/50\n",
            "113/113 [==============================] - 13s 117ms/step - loss: 0.4233 - accuracy: 0.8172 - val_loss: 0.3338 - val_accuracy: 0.8377 - lr: 5.0000e-04\n",
            "Epoch 21/50\n",
            "113/113 [==============================] - 13s 117ms/step - loss: 0.4109 - accuracy: 0.8266 - val_loss: 0.2626 - val_accuracy: 0.8918 - lr: 5.0000e-04\n",
            "Epoch 22/50\n",
            "113/113 [==============================] - 12s 109ms/step - loss: 0.4323 - accuracy: 0.8080 - val_loss: 0.2667 - val_accuracy: 0.9062 - lr: 5.0000e-04\n",
            "Epoch 23/50\n",
            "113/113 [==============================] - 13s 116ms/step - loss: 0.4203 - accuracy: 0.8135 - val_loss: 0.2535 - val_accuracy: 0.9172 - lr: 5.0000e-04\n",
            "Epoch 24/50\n",
            "113/113 [==============================] - 13s 111ms/step - loss: 0.4198 - accuracy: 0.8094 - val_loss: 0.2528 - val_accuracy: 0.9227 - lr: 5.0000e-04\n",
            "Epoch 25/50\n",
            "113/113 [==============================] - 11s 100ms/step - loss: 0.4306 - accuracy: 0.8102 - val_loss: 0.2619 - val_accuracy: 0.8907 - lr: 5.0000e-04\n",
            "Epoch 26/50\n",
            "113/113 [==============================] - 13s 119ms/step - loss: 0.4237 - accuracy: 0.8099 - val_loss: 0.2680 - val_accuracy: 0.8852 - lr: 5.0000e-04\n",
            "Epoch 27/50\n",
            "113/113 [==============================] - 12s 106ms/step - loss: 0.4152 - accuracy: 0.8186 - val_loss: 0.2616 - val_accuracy: 0.8951 - lr: 5.0000e-04\n",
            "Epoch 28/50\n",
            "113/113 [==============================] - 13s 115ms/step - loss: 0.4115 - accuracy: 0.8180 - val_loss: 0.2725 - val_accuracy: 0.8874 - lr: 2.5000e-04\n",
            "Epoch 29/50\n",
            "113/113 [==============================] - 13s 119ms/step - loss: 0.4110 - accuracy: 0.8191 - val_loss: 0.2736 - val_accuracy: 0.8874 - lr: 2.5000e-04\n"
          ]
        }
      ],
      "source": [
        "history = model.fit(  # Train the model using the following settings\n",
        "    train_datagen,  # Use the image data generator for training data augmentation\n",
        "    steps_per_epoch=len(trainX) // BS,  # Define the number of steps per epoch for training\n",
        "    validation_data=(testX, testY),  # Use the provided test data for validation during training\n",
        "    validation_steps=len(testX) // BS,  # Define the number of steps per epoch for validation\n",
        "    epochs=EPOCHS,  # Specify the number of epochs for training\n",
        "    callbacks=[lr_scheduler, early_stopping]  # Add both learning rate scheduler and early stopping callbacks\n",
        ")"
      ]
    },
    {
      "cell_type": "code",
      "execution_count": null,
      "metadata": {
        "colab": {
          "base_uri": "https://localhost:8080/",
          "height": 449
        },
        "id": "iCO19CAJRZs_",
        "outputId": "9ee6fcd9-4993-4da5-bbca-fc419648714f"
      },
      "outputs": [
        {
          "output_type": "display_data",
          "data": {
            "text/plain": [
              "<Figure size 640x480 with 1 Axes>"
            ],
            "image/png": "[encoded data removed]"
          },
          "metadata": {}
        }
      ],
      "source": [
        "plt.plot(history.history['loss'], label='train_loss')\n",
        "plt.plot(history.history['val_loss'], label='val_loss')\n",
        "plt.plot(history.history['accuracy'], label='train_acc')\n",
        "plt.plot(history.history['val_accuracy'], label='val_acc')\n",
        "plt.legend()\n",
        "plt.xlabel(\"Epoch\")\n",
        "plt.ylabel(\"Loss/Accuracy\")\n",
        "plt.show()"
      ]
    },
    {
      "cell_type": "code",
      "execution_count": null,
      "metadata": {
        "colab": {
          "base_uri": "https://localhost:8080/"
        },
        "id": "RF6Bhu7d1P-L",
        "outputId": "35939466-b64d-4d65-c0a3-2cd73b77c5c3"
      },
      "outputs": [
        {
          "output_type": "stream",
          "name": "stdout",
          "text": [
            "29/29 [==============================] - 1s 23ms/step\n",
            "Confusion Matrix:\n",
            "[[247  32   0]\n",
            " [ 21 567   1]\n",
            " [  1  15  22]]\n",
            "Classification Report:\n",
            "              precision    recall  f1-score   support\n",
            "\n",
            "  Fair_Light       0.92      0.89      0.90       279\n",
            "  Medium_Tan       0.92      0.96      0.94       589\n",
            "   Dark_Deep       0.96      0.58      0.72        38\n",
            "\n",
            "    accuracy                           0.92       906\n",
            "   macro avg       0.93      0.81      0.86       906\n",
            "weighted avg       0.92      0.92      0.92       906\n",
            "\n"
          ]
        }
      ],
      "source": [
        "preds = model.predict(testX)\n",
        "y_pred = np.argmax(preds, axis=1)\n",
        "\n",
        "cm = confusion_matrix(testY, y_pred)\n",
        "print(\"Confusion Matrix:\")\n",
        "print(cm)\n",
        "\n",
        "print(\"Classification Report:\")\n",
        "print(classification_report(testY, y_pred, target_names=classes))"
      ]
    },
    {
      "cell_type": "code",
      "execution_count": null,
      "metadata": {
        "colab": {
          "base_uri": "https://localhost:8080/"
        },
        "id": "N5UIM1bc4aZr",
        "outputId": "fed1ca09-b8e7-48bb-dded-63b1a83b7d8b"
      },
      "outputs": [
        {
          "output_type": "stream",
          "name": "stdout",
          "text": [
            "Model saved.\n"
          ]
        }
      ],
      "source": [
        "model.save('/content/drive/MyDrive/Capstone/model.h5')\n",
        "print(\"Model saved.\")"
      ]
    }
  ],
  "metadata": {
    "accelerator": "GPU",
    "colab": {
      "provenance": []
    },
    "kernelspec": {
      "display_name": "Python 3",
      "name": "python3"
    },
    "language_info": {
      "name": "python"
    }
  },
  "nbformat": 4,
  "nbformat_minor": 0
}